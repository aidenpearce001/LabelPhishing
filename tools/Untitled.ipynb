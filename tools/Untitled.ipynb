{
 "cells": [
  {
   "cell_type": "code",
   "execution_count": 1,
   "metadata": {},
   "outputs": [],
   "source": [
    "import requests"
   ]
  },
  {
   "cell_type": "code",
   "execution_count": 2,
   "metadata": {},
   "outputs": [],
   "source": [
    "BASE = 'https://render-tron.appspot.com/screenshot/'\n",
    "url = 'https://google.com'\n",
    "path = 'target.jpg'\n",
    "response = requests.get(BASE + url, stream=True)\n",
    "# save file, see https://stackoverflow.com/a/13137873/7665691\n",
    "if response.status_code == 200:\n",
    "    with open(path, 'wb') as file:\n",
    "        for chunk in response:\n",
    "            file.write(chunk)"
   ]
  }
 ],
 "metadata": {
  "kernelspec": {
   "display_name": "Python 3",
   "language": "python",
   "name": "python3"
  },
  "language_info": {
   "codemirror_mode": {
    "name": "ipython",
    "version": 3
   },
   "file_extension": ".py",
   "mimetype": "text/x-python",
   "name": "python",
   "nbconvert_exporter": "python",
   "pygments_lexer": "ipython3",
   "version": "3.8.5"
  }
 },
 "nbformat": 4,
 "nbformat_minor": 4
}
